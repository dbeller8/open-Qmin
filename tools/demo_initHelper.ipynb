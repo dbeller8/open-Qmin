{
 "cells": [
  {
   "cell_type": "markdown",
   "metadata": {},
   "source": [
    "# Demo for usage of *initHelper.py*\n",
    "\n",
    "*initHelper.py* allows you to define functions of position \n",
    "as initial conditions for the nematic director field. Supply three strings for the functions \n",
    "giving the *x, y, z* director components, along with \n",
    "system size and nematic degree of order. The script will create an initial configuration file \n",
    "where the Q-tensor has this director field and uniform, \n",
    "uniaxial nematic order.\n",
    "\n",
    "You can then load the configuration file into \n",
    "open-Qmin with the command-line flag \n",
    "\n",
    "    --initialConfigurationFile /path/to/my_init_file,\n",
    "    \n",
    "or in the GUI by clicking File -> load Configuration. "
   ]
  },
  {
   "cell_type": "code",
   "execution_count": 1,
   "metadata": {},
   "outputs": [
    {
     "name": "stdout",
     "output_type": "stream",
     "text": [
      "Configuration for process (0,0,0) has been saved to ../my_init_file_x0y0z0.txt.\n"
     ]
    }
   ],
   "source": [
    "from initHelper import create_init_state\n",
    "\n",
    "# system size *before* MPI subdivision\n",
    "whole_Lx = 50 \n",
    "whole_Ly = 50\n",
    "whole_Lz = 50\n",
    "S = 0.53 # uniaxial order for all sites\n",
    "mpi_num_processes = 1\n",
    "filename=\"../my_init_file\" # file prefix for where to save output\n",
    "\n",
    "# change these to your own functions:\n",
    "nx_function_string = \"cos(rho*2*pi/50)*cos(phi)\" \n",
    "ny_function_string = \"cos(rho*2*pi/50)*sin(phi)\" \n",
    "nz_function_string = \"sin(rho*2*pi/50)\"\n",
    "\n",
    "# don't change this part \n",
    "create_init_state(\n",
    "    whole_Lx, whole_Ly, whole_Lz, S, mpi_num_processes, filename, \n",
    "    nx_function_string, ny_function_string, nz_function_string\n",
    ")\n",
    "\n",
    "# TODO: automate mpi division\n"
   ]
  },
  {
   "cell_type": "markdown",
   "metadata": {},
   "source": [
    "Above, replace the example functions with your \n",
    "functions for each director component,\n",
    "inside quotes, using Python and/or NumPy functions.\n",
    "The allowed variables are:\n",
    "- **Cartesian**: *x, y, z*.\n",
    "    These are relative to a simulation box corner\n",
    "    and will range over the values [0,Lx-1], [0,Ly-1],\n",
    "    and [0,Lz-1] respectively. \n",
    "- **Cylindrical polar**: *rho, phi, z*.\n",
    "    These are relative to the center of the bottom face of \n",
    "    the box.\n",
    "- **Spherical polar**: *r_sph, theta, phi*.\n",
    "    These are relative to the box center, with *r_sph*\n",
    "    in units of lattice spacings.        \n"
   ]
  }
 ],
 "metadata": {
  "kernelspec": {
   "display_name": "openViewMin-env",
   "language": "python",
   "name": "openviewmin-env"
  },
  "language_info": {
   "codemirror_mode": {
    "name": "ipython",
    "version": 3
   },
   "file_extension": ".py",
   "mimetype": "text/x-python",
   "name": "python",
   "nbconvert_exporter": "python",
   "pygments_lexer": "ipython3",
   "version": "3.9.9"
  }
 },
 "nbformat": 4,
 "nbformat_minor": 4
}
