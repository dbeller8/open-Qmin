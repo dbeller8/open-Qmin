{
 "cells": [
  {
   "cell_type": "markdown",
   "metadata": {},
   "source": [
    "# Demo for usage of boundaryHelper.py"
   ]
  },
  {
   "cell_type": "markdown",
   "metadata": {},
   "source": [
    "This Jupyter notebook demonstrates the use of boundaryHelper.py to create a boundaryFile for openQmin."
   ]
  },
  {
   "cell_type": "markdown",
   "metadata": {},
   "source": [
    "First let's import what we need. You'll want to use your own path to boundaryHelper.py."
   ]
  },
  {
   "cell_type": "code",
   "execution_count": 1,
   "metadata": {},
   "outputs": [],
   "source": [
    "import numpy as np\n",
    "import boundaryHelper as bh"
   ]
  },
  {
   "cell_type": "markdown",
   "metadata": {},
   "source": [
    "## Example 1: One spherical colloid from user-supplied functions"
   ]
  },
  {
   "cell_type": "markdown",
   "metadata": {},
   "source": [
    "To demonstrate usage with user-supplied custom functions, we'll start with a simple example of a single spherical colloid with homeotropic (perpendicular) anchoring."
   ]
  },
  {
   "cell_type": "markdown",
   "metadata": {},
   "source": [
    "The first step is always to make a `Scene`."
   ]
  },
  {
   "cell_type": "code",
   "execution_count": 11,
   "metadata": {},
   "outputs": [],
   "source": [
    "Lx = 50\n",
    "Ly = 50\n",
    "Lz = 50\n",
    "sc = bh.Scene(Lx, Ly, Lz)"
   ]
  },
  {
   "cell_type": "markdown",
   "metadata": {},
   "source": [
    "Then we need to define an anchoring condition. Our choices are\n",
    "\n",
    "* `OrientedAnchoringCondition`: for homeotropic, oriented planar, etc.\n",
    "* `DegeneratePlanarAnchoringCondition`: for degenerate planar.\n",
    "\n",
    "We need to supply an anchoring strength and the value of $S_0$ (nematic degree of order) preferred at the surface."
   ]
  },
  {
   "cell_type": "code",
   "execution_count": 3,
   "metadata": {},
   "outputs": [],
   "source": [
    "ac = bh.OrientedAnchoringCondition(strength=5.3, S0=0.53)"
   ]
  },
  {
   "cell_type": "markdown",
   "metadata": {},
   "source": [
    "Now we assign our anchoring condition as the anchoring condition of a `BoundaryObject`."
   ]
  },
  {
   "cell_type": "code",
   "execution_count": 4,
   "metadata": {},
   "outputs": [],
   "source": [
    "bo = bh.BoundaryObject(ac)"
   ]
  },
  {
   "cell_type": "markdown",
   "metadata": {},
   "source": [
    "For any `BoundaryObject`, we need to define a function `member_func` that maps positions `X, Y, Z` to `True` if a site is part of the object, `False` otherwise. \n",
    "\n",
    "Note that `X, Y, Z` are three one-dimensional NumPy arrays of the same length."
   ]
  },
  {
   "cell_type": "code",
   "execution_count": 5,
   "metadata": {},
   "outputs": [],
   "source": [
    "Cx, Cy, Cz = np.array([(Lx-1)/2, (Ly-1)/2, (Lz-1)/2]) # choose center of box as sphere center\n",
    "colloid_radius = 10 \n",
    "def sphere_member_func(X,Y,Z):\n",
    "    return ((X-Cx)**2 + (Y-Cy)**2 + (Z-Cz)**2 <= colloid_radius**2)\n",
    "bo.member_func = sphere_member_func"
   ]
  },
  {
   "cell_type": "markdown",
   "metadata": {},
   "source": [
    "We also need to define a `normal_func` for the `BoundaryObject`, mapping positions `X, Y, Z` to the surface's outward normal vector (that is, facing into the nematic). \n",
    "\n",
    "The normal vectors don't need to be normalized. The formula only needs to be valid at the surface of the object, since the values for interior sites are not used. For oriented anchoring that isn't strictly homeotropic (perpendicular), we can supply the preferred direction as `normal_func` regardless of the true surface normal."
   ]
  },
  {
   "cell_type": "code",
   "execution_count": 6,
   "metadata": {},
   "outputs": [],
   "source": [
    "def sphere_normal_func(X,Y,Z):\n",
    "    return (X-Cx, Y-Cy, Z-Cz)\n",
    "bo.normal_func = sphere_normal_func"
   ]
  },
  {
   "cell_type": "markdown",
   "metadata": {},
   "source": [
    "Lastly, we add our `BoundaryObject` to the `Scene` and instruct the `Scene` to create our boundaryFile."
   ]
  },
  {
   "cell_type": "code",
   "execution_count": 7,
   "metadata": {},
   "outputs": [],
   "source": [
    "sc.boundary_objects.append(bo)\n",
    "sc.to_file('../one_spherical_colloid.txt')"
   ]
  },
  {
   "cell_type": "markdown",
   "metadata": {},
   "source": [
    "Now we can use the file as \n",
    "\n",
    "    build/openQmin.out --boundaryFile one_spherical_colloid.txt ... .\n",
    "    \n",
    "You may have to prefix the file name with a path to the file, of course."
   ]
  },
  {
   "cell_type": "markdown",
   "metadata": {},
   "source": [
    "The whole operation looks like this:"
   ]
  },
  {
   "cell_type": "code",
   "execution_count": 9,
   "metadata": {},
   "outputs": [],
   "source": [
    "import numpy as np\n",
    "import sys\n",
    "sys.path.append(\"~/openQmin/tools\") # replace with your path to boundaryHelper.py\n",
    "import boundaryHelper as bh\n",
    "\n",
    "Lx = 50\n",
    "Ly = 50\n",
    "Lz = 50\n",
    "sc = bh.Scene(Lx, Ly, Lz)\n",
    "ac = bh.OrientedAnchoringCondition(strength=5.3, S0=0.53)\n",
    "bo = bh.BoundaryObject(ac)\n",
    "Cx, Cy, Cz = np.array([(Lx-1)/2, (Ly-1)/2, (Lz-1)/2]) # choose center of box as sphere center\n",
    "colloid_radius = 10 \n",
    "def sphere_member_func(X,Y,Z):\n",
    "    return ((X-Cx)**2 + (Y-Cy)**2 + (Z-Cz)**2 <= colloid_radius**2)\n",
    "bo.member_func = sphere_member_func\n",
    "def sphere_normal_func(X,Y,Z):\n",
    "    return (X-Cx, Y-Cy, Z-Cz)\n",
    "bo.normal_func = sphere_normal_func\n",
    "sc.boundary_objects.append(bo)\n",
    "sc.to_file('../one_spherical_colloid.txt')"
   ]
  },
  {
   "cell_type": "markdown",
   "metadata": {},
   "source": [
    "## Example 2: Using pre-defined boundary objects"
   ]
  },
  {
   "cell_type": "markdown",
   "metadata": {},
   "source": [
    "boundaryHelper.py has a small number of `BoundaryObject` sub-classes with the `member_func` and `normal_func` calculated automatically from the supplied arguments. These include\n",
    "\n",
    "* `SphericalColloid(anchoring_condition, center, radius)`\n",
    "* `Wall(anchoring_condition, normal_direction, height)`\n",
    "* `SphericalDroplet(anchoring_condition, radius)`\n",
    "* `CylindricalCapillary(anchoring_condition, radius)`\n",
    "\n",
    "Here's an example `Scene` with one homeotropic-anchoring `SphericalColloid` and one `Wall` with degenerate planar anchoring. Because of periodic boundary conditions for the simulation box, a single wall functions as two walls (both floor and ceiling)."
   ]
  },
  {
   "cell_type": "code",
   "execution_count": 10,
   "metadata": {},
   "outputs": [],
   "source": [
    "sc = bh.Scene(50,50,50)\n",
    "anch1= bh.OrientedAnchoringCondition(strength=5.3, S0=0.53)\n",
    "co = bh.SphericalColloid(anch1, (24,24,24), 10)\n",
    "anch2 = bh.DegeneratePlanarAnchoringCondition(strength=10, S0=0.53)\n",
    "wall = bh.Wall(anch2, \"x\", 5) # normal to x, positioned at x=5\n",
    "sc.boundary_objects = [co, wall]\n",
    "sc.to_file('../sphere_and_wall.txt')"
   ]
  },
  {
   "cell_type": "markdown",
   "metadata": {},
   "source": [
    "## Example 3: User-defined surface from height function"
   ]
  },
  {
   "cell_type": "markdown",
   "metadata": {},
   "source": [
    "Here we're going to make two boundaries, a floor and a ceiling, with different shapes and anchoring conditions. (Note that when the floor and ceiling share the same shape and anchoring condition, we can use a single boundary object to represent them both. That's not the case here.) \n",
    "\n",
    "The ceiling will be a simple plane with degenerate planar anchoring condition. The floor, with homeotropic anchoring, will be an \"egg-crate\" surface defined by a height function $z=f(x,y) = A(\\sin^2(q x) + \\sin^2(q y))$ where $A$ is an amplitude and $q$ the wavenumber.\n",
    "\n",
    "Here's a plot of the shape we want for the floor."
   ]
  },
  {
   "cell_type": "code",
   "execution_count": null,
   "metadata": {},
   "outputs": [],
   "source": [
    "%matplotlib widget \n",
    "import matplotlib.pyplot as plt\n",
    "from mpl_toolkits.mplot3d import Axes3D\n",
    "from matplotlib import cm\n",
    "\n",
    "Lx=Ly=Lz=50\n",
    "wave_amplitude = 10\n",
    "wavelength = 50\n",
    "wavenumber = 2*np.pi/wavelength\n",
    "\n",
    "def egg_crate_z(x,y):\n",
    "    return wave_amplitude*(np.sin(wavenumber*x)**2+np.sin(wavenumber*y)**2)\n",
    "\n",
    "Xsurf, Ysurf = np.meshgrid(np.arange(Lx),np.arange(Ly))\n",
    "Zsurf = egg_crate_z(Xsurf, Ysurf)\n",
    "\n",
    "fig = plt.figure()\n",
    "ax = fig.add_subplot(111, projection='3d')\n",
    "ax.plot_surface(Xsurf, Ysurf, Zsurf, cmap=cm.coolwarm)\n",
    "ax.set_xlabel('x')\n",
    "ax.set_ylabel('y')\n",
    "ax.set_zlabel('z')\n",
    "ax.set_title('Egg-crate surface')\n",
    "plt.show()"
   ]
  },
  {
   "cell_type": "code",
   "execution_count": null,
   "metadata": {},
   "outputs": [],
   "source": [
    "sc = bh.Scene(Lx,Ly,Lz)\n",
    "anch1 = bh.OrientedAnchoringCondition(strength=5.3, S0=0.53)\n",
    "wavy_floor = bh.BoundaryObject(anch1)\n",
    "\n",
    "def wavy_floor_member_func(X, Y, Z):\n",
    "    return Z < egg_crate_z(X, Y)\n",
    "def wavy_floor_normal_func(X, Y, Z):\n",
    "    ones = np.ones_like(X)\n",
    "    # take gradient of function f(x,y,z) = z - zfunc(x,y), where f=0 defines surface\n",
    "    return (-2*wave_amplitude*wavenumber*np.sin(wavenumber*X)*np.cos(wavenumber*X), -2*wave_amplitude*wavenumber*np.sin(wavenumber*Y)*np.cos(wavenumber*Y), np.ones_like(Z))\n",
    "wavy_floor.member_func = wavy_floor_member_func\n",
    "wavy_floor.normal_func = wavy_floor_normal_func\n",
    "\n",
    "anch2 = bh.DegeneratePlanarAnchoringCondition(strength=5.3, S0=0.53)\n",
    "ceiling = bh.Wall(anch2, \"z\", Lz-1)\n",
    "sc.boundary_objects = [wavy_floor, ceiling]\n",
    "sc.to_file('../ceiling_and_wavy_floor.txt')"
   ]
  }
 ],
 "metadata": {
  "kernelspec": {
   "display_name": "p38env",
   "language": "python",
   "name": "p38env"
  },
  "language_info": {
   "codemirror_mode": {
    "name": "ipython",
    "version": 3
   },
   "file_extension": ".py",
   "mimetype": "text/x-python",
   "name": "python",
   "nbconvert_exporter": "python",
   "pygments_lexer": "ipython3",
   "version": "3.8.10"
  }
 },
 "nbformat": 4,
 "nbformat_minor": 4
}
