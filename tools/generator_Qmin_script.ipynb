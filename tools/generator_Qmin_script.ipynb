{
 "cells": [
  {
   "cell_type": "markdown",
   "metadata": {},
   "source": [
    "# *openQmin* script generator\n",
    "\n",
    "This generates *runHelper.py* automatically from the command-line arguments defined in *openQmin.cpp*."
   ]
  },
  {
   "cell_type": "code",
   "execution_count": 13,
   "metadata": {},
   "outputs": [],
   "source": [
    "with open('../openQmin.cpp','r') as f:\n",
    "    openQmincpp = f.readlines()\n",
    "arglines = [ line for line in openQmincpp if 'ValueArg' in line ]    \n",
    "\n",
    "pythonlines = [\"\"\"\n",
    "\\\"\\\"\\\"\n",
    "This Python script simply calls openQmin.out in command-line mode, \n",
    "with all available command-line arguments presented as a Python dictionary.\n",
    "Variables with empty-string values are ignored, as are commented-out lines. \n",
    "\\\"\\\"\\\"\n",
    "\n",
    "import os\n",
    "\n",
    "mpi_num_processes = 1\n",
    "\n",
    "params = dict(\"\"\"]\n",
    "\n",
    "for line in arglines[1:]:\n",
    "    shortname, longname, hint, _, default, vartype = [ eval(item)\n",
    "        for item in ''.join(\n",
    "            ''.join(\n",
    "                line.split('(')[1:]\n",
    "            ).split(')')[:-1]\n",
    "        ).replace('false','False').replace('true', 'True').split(',')[:-1]\n",
    "    ]\n",
    "    if vartype == 'scalar':\n",
    "        vartype = 'float'\n",
    "    elif vartype == 'string':\n",
    "        default = '\\\"\\\"'\n",
    "    pythonline = f'\\t{longname} = {default}, # <{vartype}> {hint}'\n",
    "    pythonlines.append(pythonline)\n",
    "pythonlines.append(')')\n",
    "pythonscript = '\\n'.join(pythonlines)\n",
    "\n",
    "pythonscript += \"\"\"\n",
    "\n",
    "def get_runcmd():\n",
    "    runcmd = '../build/openQmin.out ' + ' '.join([\n",
    "        f'--{key} {val}' for key, val in zip(\n",
    "            params.keys(), params.values()\n",
    "        )\n",
    "        if len(str(val)) > 0\n",
    "    ])\n",
    "    if mpi_num_processes > 1:\n",
    "        runcmd = f'mpirun -n {mpi_num_processes} ' + runcmd\n",
    "    return runcmd\n",
    "    \n",
    "if __name__ == '__main__':\n",
    "    runcmd = get_runcmd()\n",
    "    print(runcmd)\n",
    "    os.system(runcmd)\n",
    "\"\"\"\n",
    "\n",
    "with open ('runHelper.py', 'w') as f:\n",
    "    f.write(pythonscript)"
   ]
  }
 ],
 "metadata": {
  "kernelspec": {
   "display_name": "p38env",
   "language": "python",
   "name": "p38env"
  },
  "language_info": {
   "codemirror_mode": {
    "name": "ipython",
    "version": 3
   },
   "file_extension": ".py",
   "mimetype": "text/x-python",
   "name": "python",
   "nbconvert_exporter": "python",
   "pygments_lexer": "ipython3",
   "version": "3.8.10"
  }
 },
 "nbformat": 4,
 "nbformat_minor": 4
}
