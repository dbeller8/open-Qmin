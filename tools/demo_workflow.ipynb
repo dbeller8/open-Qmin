{
 "cells": [
  {
   "cell_type": "markdown",
   "metadata": {},
   "source": [
    "# Demonstration workflow for *openQmin* (+ *openViewMin*) within a Jupyter notebook"
   ]
  },
  {
   "cell_type": "markdown",
   "metadata": {},
   "source": [
    "First, let's define some basic global properties."
   ]
  },
  {
   "cell_type": "code",
   "execution_count": null,
   "metadata": {},
   "outputs": [],
   "source": [
    "# system size *before* MPI subdivision\n",
    "whole_Lx = 52\n",
    "whole_Ly = 40\n",
    "whole_Lz = 62\n",
    "S = 0.53 # uniaxial order for all sites\n",
    "mpi_num_processes = 3 # set to 1 for non-MPI run"
   ]
  },
  {
   "cell_type": "markdown",
   "metadata": {},
   "source": [
    "### Boundaries\n",
    "Next, we'll create a *boundaryFile* (in this case describing a spherical colloid and a planar wall)."
   ]
  },
  {
   "cell_type": "code",
   "execution_count": null,
   "metadata": {},
   "outputs": [],
   "source": [
    "import boundaryHelper as bh\n",
    "\n",
    "bdyfilename = '../data/sphere_and_wall.txt'\n",
    "\n",
    "sc = bh.Scene(whole_Lx, whole_Ly, whole_Lz) # make a Scene\n",
    "anch1= bh.OrientedAnchoringCondition(strength=5.3, S0=0.53) # first anchoring condition\n",
    "co = bh.SphericalColloid(anch1, ((whole_Lx-1)/2, (whole_Ly-1)/2, (whole_Lz-1)/2), 10) # colloid boundary object\n",
    "anch2 = bh.DegeneratePlanarAnchoringCondition(strength=10, S0=0.53) # second anchoring condition\n",
    "wall = bh.Wall(anch2, \"x\", 5) # wall boundary object, normal to x, positioned at x=5\n",
    "sc.boundary_objects = [co, wall] # put objects in Scene\n",
    "sc.to_file(bdyfilename) # write Scene to text file"
   ]
  },
  {
   "cell_type": "markdown",
   "metadata": {},
   "source": [
    "### Initialization\n",
    "Optionally, we can define an initial director field, which we save to a file for import by *openQmin* as *initialConfigurationFile*."
   ]
  },
  {
   "cell_type": "code",
   "execution_count": null,
   "metadata": {},
   "outputs": [],
   "source": [
    "import initHelper as ih\n",
    "\n",
    "initfilename=\"../data/my_init_file\" # file prefix for where to save output\n",
    "\n",
    "nx_function_string = \"cos(rho*2*pi/50)*cos(phi)\" \n",
    "ny_function_string = \"cos(rho*2*pi/50)*sin(phi)\" \n",
    "nz_function_string = \"sin(rho*2*pi/50)\"\n",
    "\n",
    "ih.create_init_state(\n",
    "    whole_Lx, whole_Ly, whole_Lz, S, mpi_num_processes, initfilename, \n",
    "    nx_function_string, ny_function_string, nz_function_string\n",
    ")"
   ]
  },
  {
   "cell_type": "markdown",
   "metadata": {},
   "source": [
    "### Run\n",
    "Now we can use *runHelper.py* to generate the command-line call to *openQmin* (with any changes we'd like to make to the default parameters) and then run it as a shell command from within Jupyter."
   ]
  },
  {
   "cell_type": "code",
   "execution_count": null,
   "metadata": {},
   "outputs": [],
   "source": [
    "import runHelper as rh\n",
    "\n",
    "saveFile = '../data/demo_run' # choose a location and filename-prefix for this run's results\n",
    "\n",
    "rh.mpi_num_processes = mpi_num_processes\n",
    "\n",
    "rh.params['initialConfigurationFile'] = initfilename\n",
    "rh.params['boundaryFile'] = bdyfilename\n",
    "rh.params['saveFile'] = saveFile\n",
    "rh.params['iterations'] = 500\n",
    "rh.params['whole_Lx'] = whole_Lx\n",
    "rh.params['whole_Ly'] = whole_Ly\n",
    "rh.params['whole_Lz'] = whole_Lz\n",
    "\n",
    "runcmd = rh.get_runcmd() # generate command-line string\n",
    "!{runcmd} # run openQmin.out from shell command"
   ]
  },
  {
   "cell_type": "markdown",
   "metadata": {},
   "source": [
    "### Visualization\n",
    "Finally, we'll visualize the result using *openViewMin*. "
   ]
  },
  {
   "cell_type": "code",
   "execution_count": null,
   "metadata": {},
   "outputs": [],
   "source": [
    "import sys\n",
    "sys.path.append('../../openviewmin') # replace with your own path to openViewMin's directory\n",
    "import openViewMin\n",
    "\n",
    "openViewMin.start_xvfb() # start a virtual frame buffer"
   ]
  },
  {
   "cell_type": "code",
   "execution_count": null,
   "metadata": {},
   "outputs": [],
   "source": [
    "# load the openQmin result\n",
    "import glob\n",
    "result_files = glob.glob(saveFile + '_x*y*z*.txt')\n",
    "ovm_plot = openViewMin.NematicPlot(result_files) "
   ]
  },
  {
   "cell_type": "markdown",
   "metadata": {},
   "source": [
    "While the full interactive mode of *openViewMin* can't be run inside a Jupyter notebook, we have a couple of options if we want to take a quick look at our results here. The first is an interactive 3D view without widgets. "
   ]
  },
  {
   "cell_type": "code",
   "execution_count": null,
   "metadata": {},
   "outputs": [],
   "source": [
    "# Optionally make changes using PyVista or openViewMin-specific methods\n",
    "ovm_plot.update_actor('defects', filter_kwargs={\"isosurfaces\":[0.3]})\n",
    "ovm_plot.set_lights_intensity(0.6)\n",
    "# Use pythreejs to render in-notebook\n",
    "ovm_plot.to_pythreejs()"
   ]
  },
  {
   "cell_type": "markdown",
   "metadata": {},
   "source": [
    "The second option is to take a snapshot of the *openViewMin* plot's current state."
   ]
  },
  {
   "cell_type": "code",
   "execution_count": null,
   "metadata": {},
   "outputs": [],
   "source": [
    "ovm_plot.camera.position = (150,100,100) \n",
    "ovm_plot.set_lights_intensity(5.)"
   ]
  },
  {
   "cell_type": "code",
   "execution_count": null,
   "metadata": {},
   "outputs": [],
   "source": [
    "import matplotlib.pyplot as plt\n",
    "\n",
    "# Plot bitmap of openViewMin screenshot\n",
    "fig = plt.figure(figsize=(10,10))\n",
    "plt.imshow(ovm_plot.screenshot()) \n",
    "plt.show()\n",
    "fig.savefig('demo_run_vis.png')"
   ]
  }
 ],
 "metadata": {
  "kernelspec": {
   "display_name": "openViewMin-env",
   "language": "python",
   "name": "openviewmin-env"
  },
  "language_info": {
   "codemirror_mode": {
    "name": "ipython",
    "version": 3
   },
   "file_extension": ".py",
   "mimetype": "text/x-python",
   "name": "python",
   "nbconvert_exporter": "python",
   "pygments_lexer": "ipython3",
   "version": "3.9.9"
  }
 },
 "nbformat": 4,
 "nbformat_minor": 4
}
