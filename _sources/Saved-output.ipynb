{
 "cells": [
  {
   "cell_type": "markdown",
   "id": "c2754fb0-0f0d-49ed-98bc-8dc587ef1cf2",
   "metadata": {},
   "source": [
    "# Saved output\n",
    "\n",
    "Both the command-line and GUI executables can save the current configuration of the simulation, and simple visualization tools are available in the /visualizationTools directory to see the output of these systems. \n",
    "\n",
    "The output format is a simple txt file, where each line is:\n",
    "`x y z Qxx Qxy Qxz Qyy Qyz t d`,\n",
    "where \n",
    "* `x y z` are the lattice site (in the case of MPI simulations, each rank will produce a separate \n",
    "file with `x y z` in absolute coordinates), \n",
    "* The third to eighth columns are the current independent values of the Q tensor. \n",
    "* The integer `t` specifies the \"type\" of the lattice site (bulk, boundary, part of an object),\n",
    "* and `d` is the nematic degree of order (a defect measure) that is computed for all lattice sites not part of an object. By default this will be the largest eigenvalue of the Q tensor at that site; for lattice sites that are part of an object this will always be zero."
   ]
  }
 ],
 "metadata": {
  "kernelspec": {
   "display_name": "Python 3 (ipykernel)",
   "language": "python",
   "name": "python3"
  },
  "language_info": {
   "codemirror_mode": {
    "name": "ipython",
    "version": 3
   },
   "file_extension": ".py",
   "mimetype": "text/x-python",
   "name": "python",
   "nbconvert_exporter": "python",
   "pygments_lexer": "ipython3",
   "version": "3.8.6"
  }
 },
 "nbformat": 4,
 "nbformat_minor": 5
}
