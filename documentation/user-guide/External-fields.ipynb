{
 "cells": [
  {
   "cell_type": "markdown",
   "id": "0de3b43c-630f-42dd-b69e-53e14769a259",
   "metadata": {},
   "source": [
    "# External fields"
   ]
  },
  {
   "cell_type": "markdown",
   "id": "581a7dd0-173c-4e7d-a141-b16f470d81f1",
   "metadata": {},
   "source": [
    "External electric fields $\\mathbf{E}$ and magnetic fields $\\mathbf{H}$ contribute the following free energy densities, respectively, calculated at each site in the nematic:\n",
    "\n",
    "$$ f_E = -\\tfrac{1}{2} \\varepsilon_0 E_i \\varepsilon_{ij} E_j, \\qquad \\varepsilon_{ij} = \\varepsilon \\delta_{ij} + \\Delta \\varepsilon Q_{ij} $$\n",
    "\n",
    "$$ f_H = - \\tfrac{1}{2} \\mu_0 H_i \\chi_{ij} H_j, \\qquad \\chi_{ij} = \\chi \\delta_{ij} + \\Delta \\chi Q_{ij} $$ \n",
    "\n",
    "where\n",
    "\n",
    "* $\\varepsilon_0$ is the non-dimensionalized vacuum permittivity\n",
    "* $\\varepsilon_{ij}$ is the material's dielectric tensor\n",
    "* $\\varepsilon$ is the material's dielectric constant (relative permittivity)\n",
    "* $\\Delta \\varepsilon$ is the material's dielectric anisotropy \n",
    "* $\\mu_0$ is the magnetic permeability of free space\n",
    "* $\\chi_{ij}$ is the material's magnetic susceptibility tensor\n",
    "* $\\chi$ is the isotropic part of the material's magnetic susceptibility \n",
    "* $\\Delta \\chi$ is the anisotropic part of the material's magnetic susceptibility\n",
    "\n",
    "and $\\delta_{ij}$ is the Kronecker delta."
   ]
  },
  {
   "cell_type": "markdown",
   "id": "8c7a2a15-16f3-4fe5-8f0c-e3d03f2e6d7c",
   "metadata": {},
   "source": [
    "## Uniform fields\n",
    "\n",
    "For a uniform external electric field $\\mathbf{E}$ or magnetic field $\\textbf{H}$, you can use the following command-line flags:\n",
    "\n",
    "* For electric field:\n",
    "    * `--eFieldDeltaEpsilon <scalar>`  $\\rightarrow \\Delta \\varepsilon$ \n",
    "    * `--eFieldEpsilon <scalar>` $\\rightarrow \\varepsilon$ \n",
    "    * `--eFieldEpsilon0 <scalar>` $\\rightarrow \\varepsilon_0$ \n",
    "    * `--eFieldZ <scalar>` $\\rightarrow E_z$\n",
    "    * `--eFieldY <scalar>` $\\rightarrow E_y$ \n",
    "    * `--eFieldX <scalar>` $\\rightarrow E_x$ \n",
    " * For magnetic field:\n",
    "     * `--hFieldDeltaChi <scalar>` $\\rightarrow \\Delta \\chi$\n",
    "    * `--hFieldChi <scalar>` $\\rightarrow \\chi$ \n",
    "    * `--hFieldMu0 <scalar>` $\\rightarrow \\mu_0$\n",
    "    * `--hFieldZ <scalar>` $\\rightarrow H_z$\n",
    "    * `--hFieldY <scalar>` $\\rightarrow H_y$\n",
    "    * `--hFieldX <scalar>` $\\rightarrow H_x$"
   ]
  },
  {
   "cell_type": "markdown",
   "id": "1729c8bc-bb4a-4e22-9664-009df1fbb7d8",
   "metadata": {},
   "source": [
    "## Non-uniform, static fields\n",
    "\n",
    "You can specify an external magnetic field that has arbitrary spatial dependence (but is still fixed in time) by reading in an external file or files with the command-line flag\n",
    "\n",
    "    --spatiallyVaryingFieldFile my_field_file_title\n",
    "\n",
    "where the files \"my_field_file_title_x0y0z0.txt\", [etc. for MPI](MPI), contain the magnetic field vector's components at each site, one site per line, with each line formatted as \n",
    "\n",
    "    x y z Hx Hy Hz"
   ]
  },
  {
   "cell_type": "code",
   "execution_count": null,
   "id": "07953009-75df-4a02-ace2-fec6e157d23f",
   "metadata": {},
   "outputs": [],
   "source": []
  }
 ],
 "metadata": {
  "kernelspec": {
   "display_name": "Python 3 (ipykernel)",
   "language": "python",
   "name": "python3"
  },
  "language_info": {
   "codemirror_mode": {
    "name": "ipython",
    "version": 3
   },
   "file_extension": ".py",
   "mimetype": "text/x-python",
   "name": "python",
   "nbconvert_exporter": "python",
   "pygments_lexer": "ipython3",
   "version": "3.8.6"
  }
 },
 "nbformat": 4,
 "nbformat_minor": 5
}
