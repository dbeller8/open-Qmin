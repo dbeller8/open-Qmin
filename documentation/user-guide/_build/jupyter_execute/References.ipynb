{
 "cells": [
  {
   "cell_type": "markdown",
   "id": "52f7ea05-0d78-40bc-8276-511d1db40066",
   "metadata": {},
   "source": [
    "# References\n",
    "\n",
    "## Feature-specific citations\n",
    "\n",
    "### FIRE energy minimization\n",
    "* [E. Bitzek et al. Phys. Rev. Lett. 97, 170201 (2006)](http://journals.aps.org/prl/abstract/10.1103/PhysRevLett.97.170201)\n",
    "\n",
    "### Nesterov Accelerated Gradient descent\n",
    "* [Nesterov, Yurii. Doklady AN USSR. 269, 543 (1983)](https://scholar.google.com/citations?user=DJ8Ep8YAAAAJ&hl=en&oi=sra#d=gs_md_cita-d&p=&u=%2Fcitations%3Fview_op%3Dview_citation%26hl%3Den%26user%3DDJ8Ep8YAAAAJ%26citation_for_view%3DDJ8Ep8YAAAAJ%3AhkOj_22Ku90C%26tzom%3D300)\n",
    "\n",
    "### ADAM energy minimization\n",
    "* [D. P. Kingma and J. Ba, arXiv:1412.6980 (2014)](https://arxiv.org/abs/1412.6980)\n"
   ]
  },
  {
   "cell_type": "code",
   "execution_count": null,
   "id": "3875ead0-b862-41cf-98cd-989a1336c478",
   "metadata": {},
   "outputs": [],
   "source": []
  }
 ],
 "metadata": {
  "kernelspec": {
   "display_name": "conda-python39",
   "language": "python",
   "name": "conda-python39"
  },
  "language_info": {
   "codemirror_mode": {
    "name": "ipython",
    "version": 3
   },
   "file_extension": ".py",
   "mimetype": "text/x-python",
   "name": "python",
   "nbconvert_exporter": "python",
   "pygments_lexer": "ipython3",
   "version": "3.9.2"
  }
 },
 "nbformat": 4,
 "nbformat_minor": 5
}