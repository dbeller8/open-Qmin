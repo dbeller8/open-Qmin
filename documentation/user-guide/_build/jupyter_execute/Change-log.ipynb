{
 "cells": [
  {
   "cell_type": "markdown",
   "id": "796c59db-9845-43bd-814e-1b498b8da7fe",
   "metadata": {},
   "source": [
    "# Change log\n",
    "\n",
    "### OpenQMin version 0.9 -- in progress\n",
    "\n",
    "* Switch to GUI initialization according to Frank constants rather than landau-deGennes ones\n",
    "* Corrections to the metric used to compute forces in the non-orthogonal basis of Qxx, Qxy, Qxz, Qyy, Qyz\n",
    "* Update to CMAKE files in response to community feedback\n",
    "* Substantial command-line improvements and user-friendliness\n",
    "\n",
    "### OpenQMin version 0.8\n",
    "\n",
    "* Extensive minor improvements in advance of paper submission\n",
    "* Creation of noQT branch to maintain a version without the QT dependency\n",
    "* Slight change to the logic of distortion energy when more than L1 is used\n",
    "\n",
    "### landauDeGUI version 0.7\n",
    "\n",
    "* multi-rank simulations possible via openMPI functionality\n",
    "\n",
    "### landauDeGUI version 0.6\n",
    "* various boundary conditions implemented\n",
    "* 1- 2- and 3- constant approximation to the distortion term implemented\n",
    "* semi-reasonable visualizations added\n",
    "\n",
    "\n",
    "### landauDeGUI version 0.5\n",
    "\n",
    "* functional Q-tensor on a cubic lattice solver\n",
    "* QT-based GUI\n",
    "\n",
    "### dDimensionalSimulation version 0.1\n",
    "\n",
    "* hypercubic celllist and neighbor list implemented\n",
    "* d-dimensional simulations of simple pairwise potentials\n",
    "* fixed-topology interactions permitted\n",
    "* nve, nvt, and energy minimization enabled\n",
    "* compile-time setting of dimensionality via root CMakeLists.txt file\n"
   ]
  },
  {
   "cell_type": "code",
   "execution_count": null,
   "id": "e4bd18d6-21a3-4add-9d33-e67db15e5973",
   "metadata": {},
   "outputs": [],
   "source": []
  }
 ],
 "metadata": {
  "kernelspec": {
   "display_name": "conda-python39",
   "language": "python",
   "name": "conda-python39"
  },
  "language_info": {
   "codemirror_mode": {
    "name": "ipython",
    "version": 3
   },
   "file_extension": ".py",
   "mimetype": "text/x-python",
   "name": "python",
   "nbconvert_exporter": "python",
   "pygments_lexer": "ipython3",
   "version": "3.9.2"
  }
 },
 "nbformat": 4,
 "nbformat_minor": 5
}