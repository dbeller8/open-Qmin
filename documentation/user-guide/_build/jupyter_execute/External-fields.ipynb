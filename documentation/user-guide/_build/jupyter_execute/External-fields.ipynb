{
 "cells": [
  {
   "cell_type": "markdown",
   "id": "0de3b43c-630f-42dd-b69e-53e14769a259",
   "metadata": {},
   "source": [
    "# External fields"
   ]
  }
 ],
 "metadata": {
  "kernelspec": {
   "display_name": "conda-python39",
   "language": "python",
   "name": "conda-python39"
  },
  "language_info": {
   "codemirror_mode": {
    "name": "ipython",
    "version": 3
   },
   "file_extension": ".py",
   "mimetype": "text/x-python",
   "name": "python",
   "nbconvert_exporter": "python",
   "pygments_lexer": "ipython3",
   "version": "3.9.2"
  }
 },
 "nbformat": 4,
 "nbformat_minor": 5
}