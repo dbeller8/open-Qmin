{
 "cells": [
  {
   "cell_type": "markdown",
   "id": "e7596ff1-7c86-4535-9524-183bc5ba4e9a",
   "metadata": {},
   "source": [
    "# Command-Line Options"
   ]
  },
  {
   "cell_type": "code",
   "execution_count": 4,
   "id": "9f83032c-5eb4-4cef-84fd-bd9f40f1b478",
   "metadata": {
    "tags": [
     "remove-output"
    ]
   },
   "outputs": [],
   "source": [
    "##    VARIABLE_NAME = DEFAULT_VALUE, # <VARIABLE_TYPE> DESCRIPTION\n",
    "\n",
    "initializationSwitch = 0, # <int> an integer controlling program branch\n",
    "GPU = -1, # <int> which gpu to use\n",
    "phaseConstantA = 0.172, # <float> value of phase constant A\n",
    "phaseConstantB = 2.12, # <float> value of phase constant B\n",
    "phaseConstantC = 1.73, # <float> value of phase constant C\n",
    "deltaT = 0.0005, # <float> step size for minimizer\n",
    "fTarget = 1e-12, # <float> target minimization threshold for norm of residual forces\n",
    "iterations = 100, # <int> maximum number of minimization steps\n",
    "nConstants = 1, # <int> approximation for distortion term\n",
    "randomSeed = -1, # <int> seed for reproducible random number generation\n",
    "L1 = 4.64, # <float> value of L1 term\n",
    "L2 = 4.64, # <float> value of L2 term\n",
    "L3 = 4.64, # <float> value of L3 term\n",
    "L4 = 4.64, # <float> value of L4 term\n",
    "L6 = 4.64, # <float> value of L6 term\n",
    "boxL = 50, # <int> number of lattice sites for cubic box\n",
    "Lx = 50, # <int> number of lattice sites in x direction\n",
    "Ly = 50, # <int> number of lattice sites in y direction\n",
    "Lz = 50, # <int> number of lattice sites in z direction\n",
    "initialConfigurationFile = \"\", # <string> carefully prepared file of the initial state of all lattice sites\n",
    "spatiallyVaryingFieldFile = \"\", # <string> carefully prepared file containing information on a spatially varying external H field\n",
    "boundaryFile = \"\", # <string> carefully prepared file of boundary sites\n",
    "saveFile = \"\", # <string> the base name to save the post-minimization configuration\n",
    "linearSpacedSaving = -1, # <int> save a file every x minimization steps\n",
    "logSpacedSaving = -1, # <float> save a file every x^j for integer j\n",
    "stride = 1, # <int> stride of the saved lattice sites\n",
    "hFieldX = 0, # <float> x component of external H field\n",
    "hFieldY = 0, # <float> y component of external H field\n",
    "hFieldZ = 0, # <float> z component of external H field\n",
    "hFieldMu0 = 1, # <float> mu0 for external magenetic field\n",
    "hFieldChi = 1, # <float> Chi for external magenetic field\n",
    "hFieldDeltaChi = 0.5, # <float> mu0 for external magenetic field\n",
    "eFieldX = 0, # <float> x component of external E field\n",
    "eFieldY = 0, # <float> y component of external E field\n",
    "eFieldZ = 0, # <float> z component of external E field\n",
    "eFieldEpsilon0 = 1, # <float> epsilon0 for external electric field\n",
    "eFieldEpsilon = 1, # <float> Epsilon for external electric field\n",
    "eFieldDeltaEpsilon = 0.5, # <float> DeltaEpsilon for external electric field"
   ]
  }
 ],
 "metadata": {
  "kernelspec": {
   "display_name": "conda-python39",
   "language": "python",
   "name": "conda-python39"
  },
  "language_info": {
   "codemirror_mode": {
    "name": "ipython",
    "version": 3
   },
   "file_extension": ".py",
   "mimetype": "text/x-python",
   "name": "python",
   "nbconvert_exporter": "python",
   "pygments_lexer": "ipython3",
   "version": "3.9.2"
  }
 },
 "nbformat": 4,
 "nbformat_minor": 5
}
