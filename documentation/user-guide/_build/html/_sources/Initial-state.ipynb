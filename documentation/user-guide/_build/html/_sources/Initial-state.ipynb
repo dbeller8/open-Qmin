{
 "cells": [
  {
   "cell_type": "code",
   "execution_count": null,
   "id": "2193061e-9f4e-4d30-b778-b5fdcd9adcbd",
   "metadata": {},
   "outputs": [],
   "source": [
    "r"
   ]
  }
 ],
 "metadata": {
  "kernelspec": {
   "display_name": "conda-python39",
   "language": "python",
   "name": "conda-python39"
  },
  "language_info": {
   "codemirror_mode": {
    "name": "ipython",
    "version": 3
   },
   "file_extension": ".py",
   "mimetype": "text/x-python",
   "name": "python",
   "nbconvert_exporter": "python",
   "pygments_lexer": "ipython3",
   "version": "3.9.2"
  }
 },
 "nbformat": 4,
 "nbformat_minor": 5
}
