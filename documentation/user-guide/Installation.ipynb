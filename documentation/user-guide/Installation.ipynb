{
 "cells": [
  {
   "cell_type": "markdown",
   "id": "12cbb5ef-4b42-418e-a282-f4892e0b4cfa",
   "metadata": {},
   "source": [
    "# Installation\n",
    "\n",
    "## Requirements\n",
    "\n",
    "You will need \n",
    "* a C++ compiler compatible with the C++11 standard\n",
    "* openMPI (development is using version 4.0.0)\n",
    "* [CUDA](https://developer.nvidia.com/cuda-downloads) (development is using version 8.0)\n",
    "* [CMake](https://cmake.org)\n",
    "* [Qt](https://www.qt.io/) (this dependency may be removed in future versions)\n",
    "\n",
    "Note that there is a non-GUI version of the code (particularly intended for running on clusters), in which all \n",
    "of the QT dependencies have been stripped out. This is the \"noQT\" branch of the code in the git repository.\n",
    "\n",
    "## Basic compilation\n",
    "\n",
    "In the terminal, cd into the `build/` directory and type\n",
    "        \n",
    "    cmake ..\n",
    "    make\n",
    "            \n",
    ":::{note}\n",
    "By default the code will compile GPU code targeted at the (old, but still used in some XSEDE facilities) Tesla K40 cards. If you have newer GPUs, it is highly recommended to go to line 6 of the CMakeLists.txt file and set the CUDA_ARCH variable appropriately. ***DIRECT USERS WHERE TO MATCH THEIR CARD TO THE RIGHT CUDA_ARCH NUMBER***.\n",
    ":::\n",
    "\n",
    "### Compilation troubleshooting\n",
    "\n",
    "If all required dependencies have been installed, the modern CMake build system should keep compilation difficulties to a minimum. If you installed any dependencies by hand you may have to give CMake hints about the location of various directories (see, e.g., lines 35-40 of the CMakeLists.txt file).\n",
    "\n",
    "If using a GPU, be sure to check what generation your card is and set the ``CUDA_ARCH'' variable (line 6 of the CMakeLists.txt file) appropriately for maximum performance. [This Website](https://arnon.dk/matching-sm-architectures-arch-and-gencode-for-various-nvidia-cards/) may help if you are unsure what to use. ***As of 2/7/22 the linked site is down!***\n",
    "\n",
    "If you used conda to install some packages, you may need to ``conda deactivate'' in order for the compilation to succeed.\n",
    "\n",
    "## Executables created\n",
    "\n",
    "By default, the above steps will create two executables, \"openQmin.out\" and \"openQminGUI.out\", in the build directory.\n",
    "The GUI executable ***\\[deprecated\\]*** will launch the graphical user interface. Users can run \"openQmin.out\" from the command-line with various command-line flags; this is also the executable accessed by Python wrappers under development. \n",
    "\n",
    "Are you wondering about the mysterious third executable, \"customScriptFromGUI.out\", that also gets made? We currently have\n",
    "an experimental (but functional) feature by which you can record sequences of actions in the GUI and save them to a new,\n",
    "compilable \"customScriptFromGUI.cpp\" file. This can be used, for instance, to specify specific initial conditions more easily\n",
    "than by fussing with the command line or writing your own cpp codes. Note that the \"customScriptFromGUI.out\" executable \n",
    "itself has command line options (such as changing the lattice size), and is suitable to be run as an MPI executable.\n",
    "\n",
    "```{admonition} For the pros\n",
    ":class: tip\n",
    "To make additional executables on compilation, copy a cpp file into the base directory, and then add the name of the \n",
    "cpp file to the base CMakeList.txt file in the \"foreach()\" line immediately following the comment that says\n",
    "\"list the names of cpp files cooresponding to linked executables you'd like.\"\n",
    "```\n",
    "\n",
    "## GUI troubleshooting\n",
    "\n",
    "Depending on your terminal and X11 set-up, there may be a variety of GL errors you might encounter\n",
    "(mismatched client/server versions of openGL, libGL errors related to fbConfigs and swrast, etc.).\n",
    "The developers have had luck using the ``terminal'' interface within the [x2go](https://wiki.x2go.org/doku.php)\n",
    "client, or alternatively using [VcXserv](https://sourceforge.net/projects/vcxsrv/) with the no-WGL option."
   ]
  }
 ],
 "metadata": {
  "kernelspec": {
   "display_name": "conda-python39",
   "language": "python",
   "name": "conda-python39"
  },
  "language_info": {
   "codemirror_mode": {
    "name": "ipython",
    "version": 3
   },
   "file_extension": ".py",
   "mimetype": "text/x-python",
   "name": "python",
   "nbconvert_exporter": "python",
   "pygments_lexer": "ipython3",
   "version": "3.9.2"
  }
 },
 "nbformat": 4,
 "nbformat_minor": 5
}
